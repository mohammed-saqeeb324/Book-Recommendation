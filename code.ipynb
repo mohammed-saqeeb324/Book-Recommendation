{
 "cells": [
  {
   "cell_type": "code",
   "execution_count": 3,
   "id": "5aa12d29-8c37-403f-a7a8-0737a863ce74",
   "metadata": {},
   "outputs": [
    {
     "name": "stdout",
     "output_type": "stream",
     "text": [
      "1.5\n",
      "1\n"
     ]
    }
   ],
   "source": [
    "#1\n",
    "print(3/2)\n",
    "print(3//2)\n",
    "#3/2 gives the quotiont after division\n",
    "#3//2 gives remainder after division"
   ]
  },
  {
   "cell_type": "code",
   "execution_count": 15,
   "id": "91ef05f8-41ce-4a8e-ba76-b0fd5d72aaa9",
   "metadata": {},
   "outputs": [
    {
     "name": "stdout",
     "output_type": "stream",
     "text": [
      "3 1\n"
     ]
    }
   ],
   "source": [
    "a=1\n",
    "b=3\n",
    "a=a+b\n",
    "b=a-b\n",
    "a=a-b\n",
    "print(a,b)"
   ]
  },
  {
   "cell_type": "code",
   "execution_count": 21,
   "id": "b81541f6-f4ba-4422-99b7-2c9594f717d6",
   "metadata": {},
   "outputs": [
    {
     "name": "stdin",
     "output_type": "stream",
     "text": [
      "Enter a year 2003\n"
     ]
    },
    {
     "name": "stdout",
     "output_type": "stream",
     "text": [
      "2003 is not a leap year\n"
     ]
    }
   ],
   "source": [
    "year=int(input(\"Enter a year\"))\n",
    "if(year%4==0 and year%100!=0) or (year%400==0):\n",
    "    print(f\"{year} is a leap year\")\n",
    "else:\n",
    "    print(f\"{year} is not a leap year\")"
   ]
  },
  {
   "cell_type": "code",
   "execution_count": 37,
   "id": "7fbc8fe0-85e6-49da-8d98-0696b5a86b50",
   "metadata": {},
   "outputs": [
    {
     "name": "stdin",
     "output_type": "stream",
     "text": [
      "enter the string mohammed\n"
     ]
    },
    {
     "name": "stdout",
     "output_type": "stream",
     "text": [
      "mohammed is not palindrome\n"
     ]
    }
   ],
   "source": [
    "word=input(\"enter the string\")\n",
    "if word==word[::-1]:\n",
    "    print(f\"{word} is a palindrome\")\n",
    "else:\n",
    "    print(f\"{word} is not palindrome\")\n",
    "    "
   ]
  },
  {
   "cell_type": "code",
   "execution_count": 45,
   "id": "62ca7b32-b762-4d61-bbb2-5439b0f0c9a8",
   "metadata": {},
   "outputs": [
    {
     "name": "stdout",
     "output_type": "stream",
     "text": [
      "7 x 1=7\n",
      "7 x 2=14\n",
      "7 x 3=21\n",
      "7 x 4=28\n",
      "7 x 5=35\n",
      "7 x 6=42\n",
      "7 x 7=49\n",
      "7 x 8=56\n",
      "7 x 9=63\n",
      "7 x 10=70\n"
     ]
    }
   ],
   "source": [
    "for i in range(1,11):\n",
    "    print(f\"7 x {i}={7*i}\")"
   ]
  },
  {
   "cell_type": "code",
   "execution_count": 49,
   "id": "2342bc04-4518-4d4c-8f5a-523b1a15a999",
   "metadata": {},
   "outputs": [
    {
     "name": "stdout",
     "output_type": "stream",
     "text": [
      "B is greatest\n"
     ]
    }
   ],
   "source": [
    "a=5\n",
    "b=10\n",
    "if a>b:\n",
    "    print(\"A is greatest\")\n",
    "else:\n",
    "    print(\"B is greatest\")"
   ]
  },
  {
   "cell_type": "code",
   "execution_count": 53,
   "id": "e0f28db7-60c4-4ae4-998b-9a3e27fe9a2b",
   "metadata": {},
   "outputs": [
    {
     "name": "stdin",
     "output_type": "stream",
     "text": [
      "Enter a string: umair\n"
     ]
    },
    {
     "name": "stdout",
     "output_type": "stream",
     "text": [
      "3\n"
     ]
    }
   ],
   "source": [
    "count=sum(1 for i in input(\"Enter a string:\").lower() if i in \"aeiou\")\n",
    "print(count)"
   ]
  },
  {
   "cell_type": "code",
   "execution_count": 81,
   "id": "78cec920-be1f-4602-af74-76cccec91ce3",
   "metadata": {},
   "outputs": [
    {
     "name": "stdout",
     "output_type": "stream",
     "text": [
      "True\n"
     ]
    }
   ],
   "source": [
    "is_prime=lambda n:n>1 and all(n%i!=0 for i in range(2,int(n**0.5)+1))\n",
    "print(is_prime(17))"
   ]
  },
  {
   "cell_type": "code",
   "execution_count": 87,
   "id": "c412f806-cc3f-4ade-8e3c-f559f3738ece",
   "metadata": {},
   "outputs": [
    {
     "name": "stdout",
     "output_type": "stream",
     "text": [
      "[1, 4, 9, 16, 25, 36, 49, 64, 81, 100]\n"
     ]
    }
   ],
   "source": [
    "squares=[i**2 for i in range(1,11)]\n",
    "print(squares)"
   ]
  },
  {
   "cell_type": "code",
   "execution_count": 99,
   "id": "f8ca3510-8764-437a-8190-e15e61092aca",
   "metadata": {},
   "outputs": [
    {
     "name": "stdin",
     "output_type": "stream",
     "text": [
      "enter the sentence i ma beeqas\n"
     ]
    },
    {
     "name": "stdout",
     "output_type": "stream",
     "text": [
      "i am saqeeb\n"
     ]
    }
   ],
   "source": [
    "sentence=input(\"enter the sentence\")\n",
    "reversed=' '.join(word[::-1] for word in sentence.split())\n",
    "print(reversed)"
   ]
  },
  {
   "cell_type": "code",
   "execution_count": 111,
   "id": "cb40bcb2-14be-4252-89a2-ff5bde6ccbaa",
   "metadata": {},
   "outputs": [
    {
     "name": "stdin",
     "output_type": "stream",
     "text": [
      "Enter a string iam saqeeb\n"
     ]
    },
    {
     "data": {
      "text/plain": [
       "<function str.count>"
      ]
     },
     "execution_count": 111,
     "metadata": {},
     "output_type": "execute_result"
    }
   ],
   "source": [
    "string=input(\"Enter a string\")\n",
    "string.count"
   ]
  },
  {
   "cell_type": "code",
   "execution_count": 119,
   "id": "39aeba52-33e3-412c-a3ea-6931584d9ac7",
   "metadata": {},
   "outputs": [
    {
     "name": "stdin",
     "output_type": "stream",
     "text": [
      "enter first word saqeeb\n",
      "enter second word saqib\n"
     ]
    },
    {
     "name": "stdout",
     "output_type": "stream",
     "text": [
      "not a anagram\n"
     ]
    }
   ],
   "source": [
    "s1=input(\"enter first word\")\n",
    "s2=input(\"enter second word\")\n",
    "if sorted(s1)==sorted(s2):\n",
    "    print(\"anagram\")\n",
    "\n",
    "else:\n",
    "    print(\"not a anagram\")"
   ]
  },
  {
   "cell_type": "code",
   "execution_count": 123,
   "id": "b1e8a18f-bf60-4472-8e7c-a622b9f0adee",
   "metadata": {},
   "outputs": [
    {
     "name": "stdout",
     "output_type": "stream",
     "text": [
      "Hello Mohammed Hows everything\n"
     ]
    }
   ],
   "source": [
    "s=\"Hello, Mohammed! How's everything?\"\n",
    "rem_pun=''.join(c for c in s if c.isalnum() or c.isspace())\n",
    "print(rem_pun)"
   ]
  },
  {
   "cell_type": "code",
   "execution_count": 125,
   "id": "d041ef68-3d11-4ec3-a656-9412442223dc",
   "metadata": {},
   "outputs": [
    {
     "name": "stdout",
     "output_type": "stream",
     "text": [
      "120\n"
     ]
    }
   ],
   "source": [
    "from functools import reduce\n",
    "factorial = lambda n: reduce(lambda x, y: x * y, range(1, n + 1))\n",
    "print(factorial(5))"
   ]
  },
  {
   "cell_type": "code",
   "execution_count": 127,
   "id": "bc353a34-54e8-491e-8ad4-c87cda7d3078",
   "metadata": {},
   "outputs": [
    {
     "name": "stdout",
     "output_type": "stream",
     "text": [
      "0 1 1 2 3 5 8 13 21 34 "
     ]
    }
   ],
   "source": [
    "a, b = 0, 1\n",
    "while a <= 50:\n",
    "    print(a, end=' ')\n",
    "    a, b = b, a + b"
   ]
  },
  {
   "cell_type": "code",
   "execution_count": 129,
   "id": "5ab846b9-855b-4f16-bc5a-b04ad628ebbb",
   "metadata": {},
   "outputs": [
    {
     "name": "stdout",
     "output_type": "stream",
     "text": [
      "10\n"
     ]
    }
   ],
   "source": [
    "def second_largest(lst):\n",
    "    first = second = float('-inf')\n",
    "    for num in lst:\n",
    "        if num > first:\n",
    "            second = first\n",
    "            first = num\n",
    "        elif first > num > second:\n",
    "            second = num\n",
    "    return second\n",
    "\n",
    "numbers = [10, 5, 20, 8, 20]\n",
    "print(second_largest(numbers))"
   ]
  },
  {
   "cell_type": "code",
   "execution_count": 131,
   "id": "5e806117-f10b-4ff9-b7fa-38b46aa86c19",
   "metadata": {},
   "outputs": [
    {
     "name": "stdout",
     "output_type": "stream",
     "text": [
      "a: 97\n",
      "b: 98\n",
      "c: 99\n",
      "d: 100\n",
      "e: 101\n",
      "f: 102\n",
      "g: 103\n",
      "h: 104\n",
      "i: 105\n",
      "j: 106\n",
      "k: 107\n",
      "l: 108\n",
      "m: 109\n",
      "n: 110\n",
      "o: 111\n",
      "p: 112\n",
      "q: 113\n",
      "r: 114\n",
      "s: 115\n",
      "t: 116\n",
      "u: 117\n",
      "v: 118\n",
      "w: 119\n",
      "x: 120\n",
      "y: 121\n",
      "z: 122\n"
     ]
    }
   ],
   "source": [
    "for c in range(ord('a'), ord('z') + 1):\n",
    "    print(f\"{chr(c)}: {c}\")"
   ]
  },
  {
   "cell_type": "code",
   "execution_count": 133,
   "id": "df993367-2dbb-4cb8-9787-82cd60eba3c1",
   "metadata": {},
   "outputs": [
    {
     "name": "stdout",
     "output_type": "stream",
     "text": [
      "53 59 61 67 71 73 79 83 89 97 "
     ]
    }
   ],
   "source": [
    "for num in range(50, 101):\n",
    "    if all(num % i != 0 for i in range(2, int(num**0.5) + 1)):\n",
    "        print(num, end=' ')\n"
   ]
  },
  {
   "cell_type": "code",
   "execution_count": 137,
   "id": "b07115cf-d638-42e4-be47-8fe265089b85",
   "metadata": {},
   "outputs": [
    {
     "name": "stdout",
     "output_type": "stream",
     "text": [
      "[3, 4]\n"
     ]
    }
   ],
   "source": [
    "list1 = [1, 2, 3, 4]\n",
    "list2 = [3, 4, 5, 6]\n",
    "print([x for x in list1 if x in list2])"
   ]
  },
  {
   "cell_type": "code",
   "execution_count": 139,
   "id": "bf31c1c7-e4a3-4f32-886c-b15cf238461a",
   "metadata": {},
   "outputs": [
    {
     "name": "stdout",
     "output_type": "stream",
     "text": [
      "[1, 2, 3, 4, 5]\n"
     ]
    }
   ],
   "source": [
    "lst = [1, 2, 2, 3, 4, 4, 5]\n",
    "unique = []\n",
    "for item in lst:\n",
    "    if item not in unique:\n",
    "        unique.append(item)\n",
    "print(unique)"
   ]
  },
  {
   "cell_type": "code",
   "execution_count": 141,
   "id": "a1c350d6-f615-47c7-935c-796fe9f2b711",
   "metadata": {},
   "outputs": [
    {
     "name": "stdout",
     "output_type": "stream",
     "text": [
      "{1: 2, 2: 3, 3: 2, 4: 1, 5: 1}\n"
     ]
    }
   ],
   "source": [
    "lst = [1, 2, 2, 3, 1, 4, 2, 3, 5]\n",
    "freq = {}\n",
    "\n",
    "for item in lst:\n",
    "    if item in freq:\n",
    "        freq[item] += 1\n",
    "    else:\n",
    "        freq[item] = 1\n",
    "\n",
    "print(freq)\n"
   ]
  },
  {
   "cell_type": "code",
   "execution_count": 143,
   "id": "b670ada7-8f9d-4550-9fa5-31779c54054d",
   "metadata": {},
   "outputs": [
    {
     "name": "stdout",
     "output_type": "stream",
     "text": [
      "{'c': 5, 'a': 3, 'd': 2, 'b': 1}\n"
     ]
    }
   ],
   "source": [
    "data = {'a': 3, 'b': 1, 'c': 5, 'd': 2}\n",
    "sorted_dict = dict(sorted(data.items(), key=lambda item: item[1], reverse=True))\n",
    "print(sorted_dict)\n"
   ]
  },
  {
   "cell_type": "code",
   "execution_count": 145,
   "id": "949144a3-3969-4525-84cf-04767e5f4564",
   "metadata": {},
   "outputs": [
    {
     "name": "stdout",
     "output_type": "stream",
     "text": [
      "b\n"
     ]
    }
   ],
   "source": [
    "data = {'a': 3, 'b': 7, 'c': 5}\n",
    "max_key = max(data, key=data.get)\n",
    "print(max_key)"
   ]
  },
  {
   "cell_type": "code",
   "execution_count": 149,
   "id": "efa53a81-c4ee-436e-af9c-3d21b9acfbfc",
   "metadata": {},
   "outputs": [
    {
     "data": {
      "text/plain": [
       "{1: 1, 2: 4, 3: 9, 4: 16, 5: 25, 6: 36, 7: 49, 8: 64, 9: 81, 10: 100}"
      ]
     },
     "execution_count": 149,
     "metadata": {},
     "output_type": "execute_result"
    }
   ],
   "source": [
    "squares={i:i**2 for i in range(1,11)}\n",
    "squares"
   ]
  },
  {
   "cell_type": "code",
   "execution_count": 151,
   "id": "79e3d48a-ba35-4192-aec6-db98f7c77efe",
   "metadata": {},
   "outputs": [
    {
     "name": "stdout",
     "output_type": "stream",
     "text": [
      "{'a': 1, 'c': 3}\n"
     ]
    }
   ],
   "source": [
    "data = {'a': 1, 'b': 2, 'c': 3}\n",
    "key_to_delete = 'b'\n",
    "\n",
    "if key_to_delete in data:\n",
    "    del data[key_to_delete]\n",
    "\n",
    "print(data)"
   ]
  },
  {
   "cell_type": "code",
   "execution_count": null,
   "id": "1f5d8cf5-faf0-4baf-8399-6e22763e06df",
   "metadata": {},
   "outputs": [],
   "source": []
  }
 ],
 "metadata": {
  "kernelspec": {
   "display_name": "Python [conda env:base] *",
   "language": "python",
   "name": "conda-base-py"
  },
  "language_info": {
   "codemirror_mode": {
    "name": "ipython",
    "version": 3
   },
   "file_extension": ".py",
   "mimetype": "text/x-python",
   "name": "python",
   "nbconvert_exporter": "python",
   "pygments_lexer": "ipython3",
   "version": "3.12.7"
  }
 },
 "nbformat": 4,
 "nbformat_minor": 5
}
